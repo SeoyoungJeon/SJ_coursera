{
 "cells": [
  {
   "cell_type": "markdown",
   "id": "71f6d398",
   "metadata": {},
   "source": [
    "# Data Science Tools and Ecosystem."
   ]
  },
  {
   "cell_type": "markdown",
   "id": "ffadf2d0",
   "metadata": {},
   "source": [
    "In this notebook, Data Science Tools and Ecosystem are summarized."
   ]
  },
  {
   "cell_type": "markdown",
   "id": "a29653e2",
   "metadata": {},
   "source": [
    "Some of the popular languages that Data Scientists use are:\n",
    "1. Python\n",
    "2. R\n",
    "3. SQL"
   ]
  },
  {
   "cell_type": "markdown",
   "id": "20941ed4",
   "metadata": {},
   "source": [
    "Some of the commonly used libraries used by Data Scientiest include:\n",
    "1. Pandas\n",
    "2. Numpy\n",
    "3. Scikit-learn"
   ]
  },
  {
   "cell_type": "markdown",
   "id": "1c4c424f",
   "metadata": {},
   "source": [
    "|Data Science Tools|\n",
    "|-----------|\n",
    "|MySQL|\n",
    "|MongoDB|\n",
    "|Haddop|\n"
   ]
  },
  {
   "cell_type": "markdown",
   "id": "2996181d",
   "metadata": {},
   "source": [
    "### Below are a few examples of evaluating arithmetic expressions in Python"
   ]
  },
  {
   "cell_type": "code",
   "execution_count": 2,
   "id": "5054f084",
   "metadata": {},
   "outputs": [
    {
     "data": {
      "text/plain": [
       "17"
      ]
     },
     "execution_count": 2,
     "metadata": {},
     "output_type": "execute_result"
    }
   ],
   "source": [
    "# This a simple arithmetic expression to multiply then add integers\n",
    "(3*4+5)"
   ]
  },
  {
   "cell_type": "code",
   "execution_count": 14,
   "id": "12b7c7a6",
   "metadata": {},
   "outputs": [
    {
     "data": {
      "text/plain": [
       "3"
      ]
     },
     "execution_count": 14,
     "metadata": {},
     "output_type": "execute_result"
    }
   ],
   "source": [
    "# This will convert 200 minutes to hours by diving by 60\n",
    "200 // 60"
   ]
  },
  {
   "cell_type": "markdown",
   "id": "5149cafe",
   "metadata": {},
   "source": [
    "**Objectives:**\n",
    "* Introduction of Data tools\n",
    "* Languages of Data science\n",
    "* Packages, APIs, Datasets and Models\n",
    "* Jupyter Notebooks and JupyterLab\n",
    "* RStudio & GitHub"
   ]
  },
  {
   "cell_type": "markdown",
   "id": "b7c01fe8",
   "metadata": {},
   "source": [
    "## Author ##\n",
    "Seoyoung JEON"
   ]
  },
  {
   "cell_type": "code",
   "execution_count": null,
   "id": "302b312f",
   "metadata": {},
   "outputs": [],
   "source": []
  }
 ],
 "metadata": {
  "kernelspec": {
   "display_name": "Python 3 (ipykernel)",
   "language": "python",
   "name": "python3"
  },
  "language_info": {
   "codemirror_mode": {
    "name": "ipython",
    "version": 3
   },
   "file_extension": ".py",
   "mimetype": "text/x-python",
   "name": "python",
   "nbconvert_exporter": "python",
   "pygments_lexer": "ipython3",
   "version": "3.11.5"
  }
 },
 "nbformat": 4,
 "nbformat_minor": 5
}
